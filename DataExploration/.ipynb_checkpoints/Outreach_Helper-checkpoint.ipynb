{
 "cells": [
  {
   "cell_type": "markdown",
   "id": "67933913-50c8-49df-b7aa-6a4ab41c39c7",
   "metadata": {},
   "source": [
    "# Fetching and downloading data from the VIEWS API\n",
    "\n",
    "This notebook allows users to fetch and download large data from the VIEWS API, uninhibited by the API's page limit. \n",
    "\n",
    "No certificates/special access tokens are required. "
   ]
  },
  {
   "cell_type": "code",
   "execution_count": null,
   "id": "ada54440",
   "metadata": {},
   "outputs": [],
   "source": [
    "import requests\n",
    "import pandas as pd\n",
    "import json"
   ]
  },
  {
   "cell_type": "markdown",
   "id": "c6a5f0d4-5887-41a0-a7ba-06c5149165b8",
   "metadata": {},
   "source": [
    "## Define the dataset of interest\n",
    "\n",
    "Please consult https://github.com/prio-data/views_api for guidance. "
   ]
  },
  {
   "cell_type": "code",
   "execution_count": null,
   "id": "f77abbf7",
   "metadata": {},
   "outputs": [],
   "source": [
    "# Define the URL you want to fetch data from. Please consult https://github.com/prio-data/views_api to learn more about filtering out the data of interest and creating the corresponding URL. \n",
    "\n",
    "#This url is for the CM Model\n",
    "VIEWS_URL='https://api.viewsforecasting.org/fatalities001_2022_11_t01/cm/'\n",
    "\n",
    "# This URL is for the PGM model: \n",
    "# VIEWS_URL='https://api.viewsforecasting.org/fatalities001_2022_09_t01/pgm/'\n"
   ]
  },
  {
   "cell_type": "markdown",
   "id": "f4635e16-6409-4497-a966-9ff1040b18fc",
   "metadata": {},
   "source": [
    "## Static functions\n",
    "\n",
    "No need to edit this section. "
   ]
  },
  {
   "cell_type": "code",
   "execution_count": null,
   "id": "d802da65",
   "metadata": {},
   "outputs": [],
   "source": [
    "# Request function\n",
    "r = requests.get(VIEWS_URL)"
   ]
  },
  {
   "cell_type": "code",
   "execution_count": null,
   "id": "343874ad",
   "metadata": {},
   "outputs": [],
   "source": [
    "#The set page size \n",
    "PAGE_SIZE=1000"
   ]
  },
  {
   "cell_type": "code",
   "execution_count": null,
   "id": "c334d940",
   "metadata": {},
   "outputs": [],
   "source": [
    "#Define the full request \n",
    "req_url=VIEWS_URL+'/'+str()+'?'+'pagesize='+str(PAGE_SIZE)\n",
    "    \n",
    "master_list=[]\n",
    "r=requests.get(req_url)\n",
    "page_data=r.json()"
   ]
  },
  {
   "cell_type": "code",
   "execution_count": null,
   "id": "0b04f4c8",
   "metadata": {},
   "outputs": [],
   "source": [
    "list(page_data)"
   ]
  },
  {
   "cell_type": "code",
   "execution_count": null,
   "id": "b088dfaa",
   "metadata": {},
   "outputs": [],
   "source": [
    "# The loop to keep fetching pages until all data is accessed \n",
    "\n",
    "master_list+=page_data['data']\n",
    "    \n",
    "while page_data['next_page'] != '':\n",
    "    r=requests.get(page_data['next_page'])\n",
    "    page_data=r.json()\n",
    "\n",
    "    master_list+=page_data['data']\n",
    "        \n",
    "df=pd.DataFrame(master_list)"
   ]
  },
  {
   "cell_type": "markdown",
   "id": "e3b473ee-c31f-44c8-9716-f79260c09501",
   "metadata": {},
   "source": [
    "## Inspect the data"
   ]
  },
  {
   "cell_type": "code",
   "execution_count": null,
   "id": "dcf2f372",
   "metadata": {},
   "outputs": [],
   "source": [
    "# Inspect the data to see that it looks correct\n",
    "\n",
    "display(df)"
   ]
  },
  {
   "cell_type": "markdown",
   "id": "fae86549-b843-4ace-a8ed-5b96c724bad2",
   "metadata": {},
   "source": [
    "## Save as .csv"
   ]
  },
  {
   "cell_type": "code",
   "execution_count": null,
   "id": "714e8192-499f-4fb2-9a76-cd2a0367fe1c",
   "metadata": {},
   "outputs": [],
   "source": [
    "import os\n",
    "home = os.path.expanduser(\"~\")\n",
    "\n",
    "# Specify where you want to save the data, else it is saved to your desktop. \n",
    "\n",
    "path = home+'/Desktop/VIEWS_new/api_data/' "
   ]
  },
  {
   "cell_type": "code",
   "execution_count": null,
   "id": "49d6c427-4c51-46e2-a199-3a931e7469fb",
   "metadata": {},
   "outputs": [],
   "source": [
    "df.to_csv(path+'latest_run.csv', sep=';', encoding='utf-8', index=True)"
   ]
  },
  {
   "cell_type": "code",
   "execution_count": null,
   "id": "e2f450b7-51cb-443a-b331-f2f1db436db9",
   "metadata": {},
   "outputs": [],
   "source": [
    "## Filter for a specific country\n",
    "\n",
    "Kenya_run = df"
   ]
  }
 ],
 "metadata": {
  "kernelspec": {
   "display_name": "Python 3 (ipykernel)",
   "language": "python",
   "name": "python3"
  },
  "language_info": {
   "codemirror_mode": {
    "name": "ipython",
    "version": 3
   },
   "file_extension": ".py",
   "mimetype": "text/x-python",
   "name": "python",
   "nbconvert_exporter": "python",
   "pygments_lexer": "ipython3",
   "version": "3.9.13"
  }
 },
 "nbformat": 4,
 "nbformat_minor": 5
}
