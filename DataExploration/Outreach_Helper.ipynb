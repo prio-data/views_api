{
 "cells": [
  {
   "cell_type": "markdown",
   "id": "67933913-50c8-49df-b7aa-6a4ab41c39c7",
   "metadata": {},
   "source": [
    "# Contents\n",
    "\n",
    "This notebook is intended to make requesting calls from the VIEWS API as easy as possible for a range of general to specific needs. \n",
    "\n",
    "In this notebook you will find the following operations: \n",
    "\n",
    "**General Information**\n",
    "- Importing the required packages\n",
    "- Finding out the latest run\n",
    "\n",
    "\n",
    "**Country-month Calls**\n",
    "- Section 1.0: A description of how to make API calls (steps 1.1 through 1.5 walk throguh making Country-model calls)\n",
    "- Section 2.1: Country-model calls with date ranges   \n",
    "- Section 2.2: Country-model calls for specific countries\n",
    "- Section 2.3: Country-model calls for specific countries within specific date ranges\n",
    "\n",
    "**PRIO-grid-month Calls**\n",
    "\n",
    "- Section 1.1: Calling all PGMs for the run\n",
    "- Section 1.2: PRIO-grid-month for specific date ranges\n",
    "- Section 1.3: PRIO-grid-month for specific ISOs \n",
    "- Section 1.3: PRIO-grid-month for specific ISOs and specific date ranges\n",
    "\n",
    "**Supplementary Calls**\n",
    "\n",
    "- Section 1.1: Calling predictions for a specific coordinate set (PGM)\n",
    "- Setcion 1.2: Calling predictions for a specific coordinate set over a specific date range (PGM)\n",
    "- Section 1.3: Calling predictions in a user-defined bounding box over a specific date range (PGM)\n",
    "- Section 1.4: Calling predictions in a user-defined bounding box over a specific date range (CM)\n"
   ]
  },
  {
   "cell_type": "code",
   "execution_count": null,
   "id": "05b7e49d",
   "metadata": {},
   "outputs": [],
   "source": [
    "# Importing the packages\n",
    "\n",
    "import requests\n",
    "import pandas as pd\n",
    "import json\n",
    "import os\n",
    "from typing import TypeVar, Union, List\n",
    "from helpers import listify, fetch_slice, model_url, make_url, make_options, fetch_runs, fetch_df\n",
    "\n",
    "\n",
    "home = os.path.expanduser(\"~\")\n",
    "\n",
    "# Specify where you want to save the data, else it is saved to your desktop. \n",
    "#path = home+'/Desktop/'\n",
    "\n",
    "path = home+'/Desktop/VIEWS_new/api_data/' \n",
    "\n",
    "#This is redefined later, but it is defined here to improve the usability of later sections \n",
    "api_location= 'https://api.viewsforecasting.org/'"
   ]
  },
  {
   "cell_type": "markdown",
   "id": "0a5c48e1",
   "metadata": {},
   "source": [
    "### What's the latest run? \n",
    "\n",
    "The following cell pulls the latest run for Fatalities001 and prints out the response."
   ]
  },
  {
   "cell_type": "code",
   "execution_count": null,
   "id": "7e6e4bf9",
   "metadata": {},
   "outputs": [],
   "source": [
    "### 1.0: See the last run\n",
    "latest_run = fetch_runs(api_location)\n",
    "latest_run = [item for item in latest_run if item.startswith('fatalities001_')]\n",
    "latest_run = latest_run[-1]\n",
    "print('The latest run for Fatalities001 is:', latest_run)"
   ]
  },
  {
   "cell_type": "markdown",
   "id": "f08b96f1",
   "metadata": {},
   "source": [
    "# Country-Month Calls"
   ]
  },
  {
   "cell_type": "markdown",
   "id": "6f5df758",
   "metadata": {},
   "source": [
    "# 1: Making an API Call\n",
    "\n",
    "The following cells will provide step by step instructions for how to make a general call from the API"
   ]
  },
  {
   "cell_type": "markdown",
   "id": "5073d352",
   "metadata": {},
   "source": [
    "### 1.1: Define the URL \n",
    "\n",
    "The following cell defines the VIEWS' API location\n"
   ]
  },
  {
   "cell_type": "code",
   "execution_count": null,
   "id": "06859fb5",
   "metadata": {},
   "outputs": [],
   "source": [
    "#This url is for the CM Model\n",
    "\n",
    "api_location= 'https://api.viewsforecasting.org/'"
   ]
  },
  {
   "cell_type": "markdown",
   "id": "9c22ed8a",
   "metadata": {},
   "source": [
    "### 1.2: Define what you are calling for\n",
    "\n",
    "In this cell you can specify your call.\n",
    "\n",
    "1. **run**: This specifys which run you would like to call. ex: 'fatalities001_2022_11_t01'\n",
    "\n",
    "2. **loa** (level of observation): You can specify 'cm' for country-month **OR** 'pgm' for PRIO-grid-month\n",
    "\n",
    "3. **tv** (violence type): You can specify 'sb' for state-based, 'ns' for non-state, **or** 'osv' for one-sided violence\n",
    "\n",
    "4. **model**: If you want a specific model you can specify that here "
   ]
  },
  {
   "cell_type": "code",
   "execution_count": null,
   "id": "d587e517",
   "metadata": {},
   "outputs": [],
   "source": [
    "# To get all country-months\n",
    "\n",
    "run = 'fatalities001_2022_11_t01'\n",
    "loa = 'cm'\n",
    "tv = 'sb'\n",
    "#model = 'model_name'\n",
    "\n",
    "url = api_location+run+'/'+loa+'/'+tv #+'/'+model\n",
    "print (url)"
   ]
  },
  {
   "cell_type": "markdown",
   "id": "0dca153e",
   "metadata": {},
   "source": [
    "### 1.2: Setting up the call\n",
    "\n",
    "This cell provides the parameters to make the call. \n",
    "\n",
    "The list(page_data) command is used to show the avaliable information from the API"
   ]
  },
  {
   "cell_type": "code",
   "execution_count": null,
   "id": "238c1799",
   "metadata": {},
   "outputs": [],
   "source": [
    "# Request function\n",
    "r = requests.get(url)\n",
    "\n",
    "#The set page size \n",
    "PAGE_SIZE=1000\n",
    "\n",
    "# I believe I can delete this one:\n",
    "#Define the full request \n",
    "#req_url=VIEWS_URL+'/'+str()+'?'+'pagesize='+str(PAGE_SIZE)\n",
    "    \n",
    "master_list=[]\n",
    "r=requests.get(url)\n",
    "page_data=r.json()\n",
    "\n",
    "list(page_data)"
   ]
  },
  {
   "cell_type": "markdown",
   "id": "ac90960b",
   "metadata": {},
   "source": [
    "### 1.3: Creating the loop\n",
    "\n",
    "The following loop fetches the API's pages until all data is accessed "
   ]
  },
  {
   "cell_type": "code",
   "execution_count": null,
   "id": "6ff33158",
   "metadata": {},
   "outputs": [],
   "source": [
    "master_list+=page_data['data']\n",
    "    \n",
    "while page_data['next_page'] != '':\n",
    "    r=requests.get(page_data['next_page'])\n",
    "    page_data=r.json()\n",
    "\n",
    "    master_list+=page_data['data']\n",
    "        \n",
    "df=pd.DataFrame(master_list)"
   ]
  },
  {
   "cell_type": "markdown",
   "id": "954f612d",
   "metadata": {},
   "source": [
    "### 1.4: Inspect the Data\n",
    "\n",
    "This cell allows you to review the data as a pandas DataFrame"
   ]
  },
  {
   "cell_type": "code",
   "execution_count": null,
   "id": "6833f5d2",
   "metadata": {},
   "outputs": [],
   "source": [
    "display(df)"
   ]
  },
  {
   "cell_type": "markdown",
   "id": "c6a5f0d4-5887-41a0-a7ba-06c5149165b8",
   "metadata": {},
   "source": [
    "### 1.5: Saving the DataFrame as a XLSX file\n",
    "\n",
    "The following cell saves the pandas DataFrame as a XLSX file into the file path per defined in the first cell."
   ]
  },
  {
   "cell_type": "code",
   "execution_count": null,
   "id": "49d6c427-4c51-46e2-a199-3a931e7469fb",
   "metadata": {},
   "outputs": [],
   "source": [
    "# Save as .xlxs\n",
    "df.to_excel(path + 'latest_run.xlsx') \n",
    "\n",
    "# Save as .csv\n",
    "# df.to_csv(path+'latest_run.csv', sep=';', encoding='utf-8', index=True)"
   ]
  },
  {
   "cell_type": "markdown",
   "id": "2cd13b71",
   "metadata": {},
   "source": [
    " "
   ]
  },
  {
   "cell_type": "markdown",
   "id": "f6fb16e1",
   "metadata": {},
   "source": [
    " "
   ]
  },
  {
   "cell_type": "markdown",
   "id": "e8597ee5",
   "metadata": {},
   "source": [
    "# 2. Making Specific Calls with the API\n",
    "\n",
    "In the following cell you will learn how to make specific calls with the API. Given that general calls are explained above, these cell are designed to be single-cell. "
   ]
  },
  {
   "cell_type": "markdown",
   "id": "e082b291",
   "metadata": {},
   "source": [
    "## 2.1: Calls for specific date ranges\n"
   ]
  },
  {
   "cell_type": "code",
   "execution_count": null,
   "id": "f552e0df",
   "metadata": {},
   "outputs": [],
   "source": [
    "run = 'fatalities001_2022_11_t01'\n",
    "loa = 'cm'# or 'pgm'\n",
    "tv = 'sb' # or 'osv' or 'ns'\n",
    "date_start = '2022-12-01'\n",
    "date_end = '2023-04-30'\n",
    "\n",
    "url = url = api_location+run+'/'+loa+'/'+tv+'?'+'date_start='+date_start+'&'+'date_end='+date_end\n",
    "print(url)\n",
    "\n",
    "# Request function\n",
    "r = requests.get(url)\n",
    "PAGE_SIZE=1000\n",
    "master_list=[]\n",
    "r=requests.get(url)\n",
    "page_data=r.json()\n",
    "master_list+=page_data['data']\n",
    "    \n",
    "while page_data['next_page'] != '':\n",
    "    r=requests.get(page_data['next_page'])\n",
    "    page_data=r.json()\n",
    "    master_list+=page_data['data']\n",
    "        \n",
    "df=pd.DataFrame(master_list)\n",
    "\n",
    "df.to_csv(path+'latest_run.csv', sep=';', encoding='utf-8', index=True)\n",
    "\n",
    "display(df)"
   ]
  },
  {
   "cell_type": "markdown",
   "id": "49b07c13",
   "metadata": {},
   "source": [
    "## 2.2 Calls for specific countries"
   ]
  },
  {
   "cell_type": "code",
   "execution_count": null,
   "id": "6617f814",
   "metadata": {},
   "outputs": [],
   "source": [
    "run = 'fatalities001_2022_11_t01'\n",
    "loa = 'cm'# or 'pgm'\n",
    "tv = 'sb' # or 'osv' or 'ns'\n",
    "iso = 'KEN'\n",
    "\n",
    "url = url = api_location+run+'/'+loa+'/'+tv+'?'+'iso='+iso\n",
    "print(url)\n",
    "\n",
    "# Request function\n",
    "r = requests.get(url)\n",
    "PAGE_SIZE=1000\n",
    "master_list=[]\n",
    "r=requests.get(url)\n",
    "page_data=r.json()\n",
    "master_list+=page_data['data']\n",
    "    \n",
    "while page_data['next_page'] != '':\n",
    "    r=requests.get(page_data['next_page'])\n",
    "    page_data=r.json()\n",
    "    master_list+=page_data['data']\n",
    "        \n",
    "df=pd.DataFrame(master_list)\n",
    "\n",
    "df.to_csv(path+'latest_run.csv', sep=';', encoding='utf-8', index=True)\n",
    "\n",
    "display(df)"
   ]
  },
  {
   "cell_type": "markdown",
   "id": "b38a8f13",
   "metadata": {},
   "source": [
    "## 2.3: Call for specific country and time"
   ]
  },
  {
   "cell_type": "code",
   "execution_count": null,
   "id": "fbbbc5ca",
   "metadata": {},
   "outputs": [],
   "source": [
    "run = 'fatalities001_2022_11_t01'\n",
    "loa = 'cm'# or 'pgm'\n",
    "tv = 'sb' # or 'osv' or 'ns'\n",
    "iso = 'KEN'\n",
    "date_start = '2022-12-01'\n",
    "date_end = '2023-04-30'\n",
    "\n",
    "\n",
    "url = api_location+run+'/'+loa+'/'+tv+'?'+'iso='+iso+'&'+'date_start='+date_start+'&'+'date_end='+date_end\n",
    "\n",
    "# Request function\n",
    "r = requests.get(url)\n",
    "PAGE_SIZE=1000\n",
    "master_list=[]\n",
    "r=requests.get(url)\n",
    "page_data=r.json()\n",
    "master_list+=page_data['data']\n",
    "    \n",
    "while page_data['next_page'] != '':\n",
    "    r=requests.get(page_data['next_page'])\n",
    "    page_data=r.json()\n",
    "    master_list+=page_data['data']\n",
    "        \n",
    "df=pd.DataFrame(master_list)\n",
    "\n",
    "df.to_csv(path+'latest_run.csv', sep=';', encoding='utf-8', index=True)\n",
    "\n",
    "display(df)"
   ]
  },
  {
   "cell_type": "markdown",
   "id": "f1206948",
   "metadata": {},
   "source": [
    "# PRIO-Grid Models"
   ]
  },
  {
   "cell_type": "markdown",
   "id": "612692f4",
   "metadata": {},
   "source": [
    "## 1.1 Making a call with all PGMs"
   ]
  },
  {
   "cell_type": "code",
   "execution_count": null,
   "id": "324c07f2",
   "metadata": {},
   "outputs": [],
   "source": [
    "run = 'fatalities001_2022_11_t01'\n",
    "loa = 'pgm'# or 'pgm'\n",
    "tv = 'sb' # or 'osv' or 'ns'\n",
    "\n",
    "url = url = api_location+run+'/'+loa+'/'+tv\n",
    "print(url)\n",
    "\n",
    "# Request function\n",
    "r = requests.get(url)\n",
    "PAGE_SIZE=1000\n",
    "master_list=[]\n",
    "r=requests.get(url)\n",
    "page_data=r.json()\n",
    "master_list+=page_data['data']\n",
    "    \n",
    "while page_data['next_page'] != '':\n",
    "    r=requests.get(page_data['next_page'])\n",
    "    page_data=r.json()\n",
    "    master_list+=page_data['data']\n",
    "        \n",
    "df=pd.DataFrame(master_list)\n",
    "\n",
    "df.to_csv(path+'latest_run.csv', sep=';', encoding='utf-8', index=True)\n",
    "\n",
    "display(df)"
   ]
  },
  {
   "cell_type": "code",
   "execution_count": null,
   "id": "ac49b486",
   "metadata": {},
   "outputs": [],
   "source": [
    "https://api.viewsforecasting.org/fatalities001_2022_07_t01/pgm?iso=PAL&date_start=2010-01-01&date_end=2030-01-01"
   ]
  },
  {
   "cell_type": "markdown",
   "id": "893389e8",
   "metadata": {},
   "source": [
    "## 1.2: Making a call for PGM in a specific date range\n",
    "\n",
    "Simply edit the 'date_start' or 'date_end' to your preference. This should be in YYYY-MM-DD format."
   ]
  },
  {
   "cell_type": "code",
   "execution_count": null,
   "id": "ba2fafa4",
   "metadata": {},
   "outputs": [],
   "source": [
    "run = 'fatalities001_2022_11_t01'\n",
    "loa = 'pgm'\n",
    "tv = 'sb' # or 'osv' or 'ns'\n",
    "date_start = '2022-12-01'\n",
    "date_end = '2023-04-30'\n",
    "\n",
    "url = url = api_location+run+'/'+loa+'/'+tv+'?'+'date_start='+date_start+'&'+'date_end='+date_end\n",
    "print(url)\n",
    "\n",
    "# Request function\n",
    "r = requests.get(url)\n",
    "PAGE_SIZE=1000\n",
    "master_list=[]\n",
    "r=requests.get(url)\n",
    "page_data=r.json()\n",
    "master_list+=page_data['data']\n",
    "    \n",
    "while page_data['next_page'] != '':\n",
    "    r=requests.get(page_data['next_page'])\n",
    "    page_data=r.json()\n",
    "    master_list+=page_data['data']\n",
    "        \n",
    "df=pd.DataFrame(master_list)\n",
    "\n",
    "df.to_csv(path+'latest_run.csv', sep=';', encoding='utf-8', index=True)\n",
    "\n",
    "display(df)"
   ]
  },
  {
   "cell_type": "markdown",
   "id": "462e3a7c",
   "metadata": {},
   "source": [
    "## 1.3: Making a call for all PGMs in a given country\n",
    "\n",
    "Simply edit the 'iso' to match that of the country you are interested in."
   ]
  },
  {
   "cell_type": "code",
   "execution_count": null,
   "id": "fa0cf3bd",
   "metadata": {},
   "outputs": [],
   "source": [
    "run = 'fatalities001_2022_11_t01'\n",
    "loa = 'pgm'\n",
    "tv = 'sb' # or 'osv' or 'ns'\n",
    "iso = 'KEN'\n",
    "\n",
    "url = url = api_location+run+'/'+loa+'/'+tv+'?'+'iso='+iso\n",
    "print(url)\n",
    "\n",
    "# Request function\n",
    "r = requests.get(url)\n",
    "PAGE_SIZE=1000\n",
    "master_list=[]\n",
    "r=requests.get(url)\n",
    "page_data=r.json()\n",
    "master_list+=page_data['data']\n",
    "    \n",
    "while page_data['next_page'] != '':\n",
    "    r=requests.get(page_data['next_page'])\n",
    "    page_data=r.json()\n",
    "    master_list+=page_data['data']\n",
    "        \n",
    "df=pd.DataFrame(master_list)\n",
    "\n",
    "df.to_csv(path+'kenya.csv', sep=';', encoding='utf-8', index=True)\n",
    "\n",
    "display(df)"
   ]
  },
  {
   "cell_type": "markdown",
   "id": "42296580",
   "metadata": {},
   "source": [
    "## 1.4: Making a call for a specific country during a specific time\n",
    "\n",
    "Simply edit the 'date_start' or 'date_end' to your preference (YYYY-MM-DD)\n",
    "\n",
    "**AND**\n",
    "\n",
    "the 'iso' to your country of interest\n"
   ]
  },
  {
   "cell_type": "code",
   "execution_count": null,
   "id": "d672321b",
   "metadata": {},
   "outputs": [],
   "source": [
    "run = 'fatalities001_2022_11_t01'\n",
    "loa = 'pgm'\n",
    "tv = 'sb' # or 'osv' or 'ns'\n",
    "iso = 'KEN'\n",
    "date_start = '2022-12-01'\n",
    "date_end = '2023-04-30'\n",
    "\n",
    "\n",
    "url = api_location+run+'/'+loa+'/'+tv+'?'+'iso='+iso+'&'+'date_start='+date_start+'&'+'date_end='+date_end\n",
    "print(url)\n",
    "\n",
    "# Request function\n",
    "r = requests.get(url)\n",
    "PAGE_SIZE=1000\n",
    "master_list=[]\n",
    "r=requests.get(url)\n",
    "page_data=r.json()\n",
    "master_list+=page_data['data']\n",
    "    \n",
    "while page_data['next_page'] != '':\n",
    "    r=requests.get(page_data['next_page'])\n",
    "    page_data=r.json()\n",
    "    master_list+=page_data['data']\n",
    "        \n",
    "df=pd.DataFrame(master_list)\n",
    "\n",
    "df.to_csv(path+'latest_run.csv', sep=';', encoding='utf-8', index=True)\n",
    "\n",
    "display(df)"
   ]
  },
  {
   "cell_type": "markdown",
   "id": "c68dbcf6",
   "metadata": {},
   "source": [
    "# Supplementary Features"
   ]
  },
  {
   "cell_type": "markdown",
   "id": "8ace3d98",
   "metadata": {},
   "source": [
    "## 1.1: Making calls for specific coordinates\n",
    "\n",
    "When interested in the predictions for a specific set of coordinates you can use the following command. This call will pull the corresponding PRIO-grid cell that the coordinates fall into. This may be especially useful if you are only interested in the fighting that is occuring in a particular town/city/etc.\n",
    "\n",
    "The example below is for a useer who is interested in seeing the forecast for state-based violence in Baghdad, Iraq. "
   ]
  },
  {
   "cell_type": "code",
   "execution_count": null,
   "id": "317778f3",
   "metadata": {},
   "outputs": [],
   "source": [
    "run = 'fatalities001_2022_11_t01'\n",
    "loa = 'pgm'\n",
    "tv = 'sb' # or 'osv' or 'ns'\n",
    "lat = '33.3152'\n",
    "lon = '44.3661'\n",
    "\n",
    "\n",
    "url = api_location+ run+ '/'+ loa+ '/'+ tv+'?'+'lat='+lat+'&'+'lon='+lon \n",
    "\n",
    "#https://api.viewsforecasting.org/fatalities001_2022_07_t01/cm/sb?lat=20&lon=15\n",
    "\n",
    "print(url)\n",
    "\n",
    "# Request function\n",
    "r = requests.get(url)\n",
    "PAGE_SIZE=1000\n",
    "master_list=[]\n",
    "r=requests.get(url)\n",
    "page_data=r.json()\n",
    "master_list+=page_data['data']\n",
    "    \n",
    "while page_data['next_page'] != '':\n",
    "    r=requests.get(page_data['next_page'])\n",
    "    page_data=r.json()\n",
    "    master_list+=page_data['data']\n",
    "        \n",
    "df=pd.DataFrame(master_list)\n",
    "\n",
    "df.to_csv(path+'latest_run.csv', sep=';', encoding='utf-8', index=True)\n",
    "\n",
    "display(df)"
   ]
  },
  {
   "cell_type": "markdown",
   "id": "7388c5da",
   "metadata": {},
   "source": [
    "## 1.2: Making calls for specific coordinates over a specific time\n",
    "\n",
    "When interested in the predictions for a specific set of coordinates you can use the following command. This call will pull the corresponding PRIO-grid cell that the coordinates fall into. This may be useful if you are only interested in the fighting that is occuring in a particular town/city/etc over a specific time range. \n",
    "\n",
    "The example below is for a useer who is interested in seeing the forecast for state-based violence in Baghdad, Iraq, ***BUT*** only from December 2022 until April 2023. \n"
   ]
  },
  {
   "cell_type": "code",
   "execution_count": null,
   "id": "78f7e33f",
   "metadata": {},
   "outputs": [],
   "source": [
    "run = 'fatalities001_2022_11_t01'\n",
    "loa = 'pgm'\n",
    "tv = 'sb' # or 'osv' or 'ns'\n",
    "lat = '33.3152'\n",
    "lon = '44.3661'\n",
    "date_start = '2022-12-01'\n",
    "date_end = '2024-04-30'\n",
    "\n",
    "\n",
    "url = api_location+ run+ '/'+ loa+ '/'+ tv+'?'+'lat='+lat+'&'+'lon='+lon+'&'+'date_start='+date_start+'&'+'date_end='+date_end\n",
    "\n",
    "#https://api.viewsforecasting.org/fatalities001_2022_07_t01/cm/sb?lat=20&lon=15\n",
    "\n",
    "print(url)\n",
    "\n",
    "# Request function\n",
    "r = requests.get(url)\n",
    "PAGE_SIZE=1000\n",
    "master_list=[]\n",
    "r=requests.get(url)\n",
    "page_data=r.json()\n",
    "master_list+=page_data['data']\n",
    "    \n",
    "while page_data['next_page'] != '':\n",
    "    r=requests.get(page_data['next_page'])\n",
    "    page_data=r.json()\n",
    "    master_list+=page_data['data']\n",
    "        \n",
    "df=pd.DataFrame(master_list)\n",
    "\n",
    "df.to_csv(path+'latest_run.csv', sep=';', encoding='utf-8', index=True)\n",
    "\n",
    "display(df)"
   ]
  },
  {
   "cell_type": "markdown",
   "id": "6b2c245d",
   "metadata": {},
   "source": [
    "## 1.3: Making calls all PRIO-grids in a bounding box over a specific time\n",
    "\n",
    "When interested in the predictions for a specific set of coordinates you can use the following command. This call will pull the corresponding PRIO-grid cell that the coordinates fall into. This may be useful if you are only interested in the fighting that is occuring in a particular town/city/etc over a specific time range. \n",
    "\n",
    "The example below is for a useer who is interested in seeing the forecast for state-based violence around the Sudan-South Sudan border from 2022-12 through 2022-04. \n"
   ]
  },
  {
   "cell_type": "code",
   "execution_count": null,
   "id": "70d0bf95",
   "metadata": {},
   "outputs": [],
   "source": [
    "run = 'fatalities001_2022_11_t01'\n",
    "loa = 'pgm'\n",
    "tv = 'sb' # or 'osv' or 'ns'\n",
    "model = 'sc_pgm_sb_main'\n",
    "lat_ne = '12.42'\n",
    "lon_ne = '35.11'\n",
    "lat_sw = '8.86'\n",
    "lon_sw = '23.75'\n",
    "date_start = '2022-12-01'\n",
    "date_end = '2023-04-30'\n",
    "\n",
    "url = api_location+ run+ '/'+ loa+ '/'+ tv+'/'+ model+ '?' +'lat_ne='+lat_ne+'&'+'lon_ne='+lon_ne+ '&'+ 'lat_sw='+lat_sw+'&'+'lon_sw='+lon_sw+ '&'+ 'date_start='+date_start+'&'+'date_end='+date_end\n",
    "\n",
    "\n",
    "#fatalities001_2022_07_t01/cm/sb/sc_cm_sb_main?lat_ne=25&lon_ne=30&lat_sw=30&lon_sw=10\n",
    "\n",
    "\n",
    "print(url)\n",
    "\n",
    "# Request function\n",
    "r = requests.get(url)\n",
    "PAGE_SIZE=1000\n",
    "master_list=[]\n",
    "r=requests.get(url)\n",
    "page_data=r.json()\n",
    "master_list+=page_data['data']\n",
    "    \n",
    "while page_data['next_page'] != '':\n",
    "    r=requests.get(page_data['next_page'])\n",
    "    page_data=r.json()\n",
    "    master_list+=page_data['data']\n",
    "        \n",
    "df=pd.DataFrame(master_list)\n",
    "\n",
    "df.to_csv(path+'latest_run.csv', sep=';', encoding='utf-8', index=True)\n",
    "\n",
    "display(df)"
   ]
  },
  {
   "cell_type": "markdown",
   "id": "278dae78",
   "metadata": {},
   "source": [
    "## 1.4: Making calls all CM in a bounding box over a specific time\n",
    "\n",
    "When interested in the predictions for a specific set of coordinates you can use the following command. This call will pull the corresponding Country-months that the coordinates fall into. This may be useful if you are only interested in the fighting that is occuring in a particular town/city/etc over a specific time range. \n",
    "\n",
    "The example below is for a useer who is interested in seeing the forecast for state-based violence around the Sudan-South Sudan border from 2022-12 through 2022-04. \n",
    "\n",
    "This also pulls data for Ethiopia, however this can be filtered out of the data after the API call. Or this can be included to observe predicted violence spillover. \n"
   ]
  },
  {
   "cell_type": "code",
   "execution_count": null,
   "id": "24736b77",
   "metadata": {},
   "outputs": [],
   "source": [
    "run = 'fatalities001_2022_11_t01'\n",
    "loa = 'cm'\n",
    "tv = 'sb' # or 'osv' or 'ns'\n",
    "model = 'sc_cm_sb_main'\n",
    "lat_ne = '12.42'\n",
    "lon_ne = '35.11'\n",
    "lat_sw = '8.86'\n",
    "lon_sw = '23.75'\n",
    "date_start = '2022-12-01'\n",
    "date_end = '2023-04-30'\n",
    "\n",
    "url = api_location+ run+ '/'+ loa+ '/'+ tv+'/'+ model+ '?' +'lat_ne='+lat_ne+'&'+'lon_ne='+lon_ne+ '&'+ 'lat_sw='+lat_sw+'&'+'lon_sw='+lon_sw+ '&'+ 'date_start='+date_start+'&'+'date_end='+date_end\n",
    "\n",
    "\n",
    "#fatalities001_2022_07_t01/cm/sb/sc_cm_sb_main?lat_ne=25&lon_ne=30&lat_sw=30&lon_sw=10\n",
    "\n",
    "\n",
    "print(url)\n",
    "\n",
    "# Request function\n",
    "r = requests.get(url)\n",
    "PAGE_SIZE=1000\n",
    "master_list=[]\n",
    "r=requests.get(url)\n",
    "page_data=r.json()\n",
    "master_list+=page_data['data']\n",
    "    \n",
    "while page_data['next_page'] != '':\n",
    "    r=requests.get(page_data['next_page'])\n",
    "    page_data=r.json()\n",
    "    master_list+=page_data['data']\n",
    "        \n",
    "df=pd.DataFrame(master_list)\n",
    "\n",
    "df.to_csv(path+'latest_run.csv', sep=';', encoding='utf-8', index=True)\n",
    "\n",
    "display(df)"
   ]
  }
 ],
 "metadata": {
  "kernelspec": {
   "display_name": "Python 3 (ipykernel)",
   "language": "python",
   "name": "python3"
  },
  "language_info": {
   "codemirror_mode": {
    "name": "ipython",
    "version": 3
   },
   "file_extension": ".py",
   "mimetype": "text/x-python",
   "name": "python",
   "nbconvert_exporter": "python",
   "pygments_lexer": "ipython3",
   "version": "3.9.13"
  }
 },
 "nbformat": 4,
 "nbformat_minor": 5
}
