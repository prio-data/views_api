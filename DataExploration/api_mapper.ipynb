{
 "cells": [
  {
   "cell_type": "markdown",
   "id": "ab4fa660",
   "metadata": {},
   "source": [
    "# Purpose of Notebook\n",
    "\n",
    "\n",
    "### This notebook intends to describe the process of mapping VIEWS predictions onto maps\n",
    "\n",
    "\n",
    "In the following code, we you will (i) obtain data from the VIEWS API (see this [link](https://github.com/prio-data/views_api/blob/development/DataExploration/Outreach_Helper.ipynb) for an example noteboook), (ii) merge the data to a geom DataFrame for mapping purposes, (iii) define our VIEWS mapper function, (iv) allow user specifications, (v) map the data.   "
   ]
  },
  {
   "cell_type": "code",
   "execution_count": null,
   "id": "8eacad7c",
   "metadata": {},
   "outputs": [],
   "source": [
    "# Mapper\n",
    "import geopandas as gpd\n",
    "import pandas as pd\n",
    "import numpy as np\n",
    "import matplotlib.pyplot as plt\n",
    "import contextily as ctx\n",
    "import sqlalchemy as sa\n",
    "from matplotlib import pyplot as plt\n",
    "from mpl_toolkits.axes_grid1 import make_axes_locatable\n",
    "\n",
    "# working on the function here\n",
    "from mappy import Mapper2, vid2date\n",
    "\n",
    "#To make an API call \n",
    "import requests\n",
    "import json\n",
    "import os\n",
    "\n",
    "home = os.path.expanduser(\"~\")\n",
    "\n",
    "# Specify where you want to save the data, else it is saved to your desktop. \n",
    "path = home+'/Desktop/' \n",
    "\n",
    "#This url is the base \n",
    "api_location = 'https://api.viewsforecasting.org/'\n",
    "EndOfHistory = 515"
   ]
  },
  {
   "cell_type": "markdown",
   "id": "f6093ccc",
   "metadata": {},
   "source": [
    "### Obtaining data from the API\n",
    "\n",
    "Please specify the data you would like to fetch from the API below. See this link for a guide on how to specify your own calls: [LINK](https://github.com/prio-data/views_api/blob/development/DataExploration/Outreach_Helper.ipynb)"
   ]
  },
  {
   "cell_type": "code",
   "execution_count": null,
   "id": "1393911f",
   "metadata": {},
   "outputs": [],
   "source": [
    "run = 'fatalities001_2022_11_t01'\n",
    "loa = 'pgm'\n",
    "tv = 'sb' # or 'osv' or 'ns'\n",
    "model = 'sc_pgm_sb_main'\n",
    "\n",
    "\n",
    "url = api_location+ run+ '/'+ loa+ '/'+ tv+'/'+ model\n",
    "\n",
    "print(url)\n",
    "\n",
    "# Request function\n",
    "r = requests.get(url)\n",
    "PAGE_SIZE=1000\n",
    "master_list=[]\n",
    "r=requests.get(url)\n",
    "page_data=r.json()\n",
    "master_list+=page_data['data']\n",
    "    \n",
    "while page_data['next_page'] != '':\n",
    "    r=requests.get(page_data['next_page'])\n",
    "    page_data=r.json()\n",
    "    master_list+=page_data['data']\n",
    "        \n",
    "df=pd.DataFrame(master_list)\n",
    "\n",
    "df = df.rename(columns = {'pg_id':'priogrid_gid'})\n",
    "df['step'] = df['month_id'] - EndOfHistory\n",
    "\n",
    "df.to_csv(path+'latest_run.csv', sep=';', encoding='utf-8', index=True)\n",
    "\n",
    "display(df)"
   ]
  },
  {
   "cell_type": "markdown",
   "id": "da37827e",
   "metadata": {},
   "source": [
    "### Defining the Map format\n",
    "\n",
    "This cell defines the maps scales. You should only change numbers in this box if you are interested in changing the scale."
   ]
  },
  {
   "cell_type": "code",
   "execution_count": null,
   "id": "1104daa9",
   "metadata": {},
   "outputs": [],
   "source": [
    "standard_scale = [np.log1p(0),np.log1p(3),np.log1p(10), np.log1p(30), np.log1p(100),  np.log1p(300)]#, np.log1p(1000), np.log1p(3000),  np.log1p(10000)]\n",
    "standard_scale_labels = ['0', '3','10', '30','100', '300']#, '1000', '3000', '10000']\n",
    "\n",
    "small_scale=[np.log1p(0),np.log1p(3),np.log1p(10), np.log1p(30), np.log1p(100),  np.log1p(300)]#, np.log1p(1000)]\n",
    "\n",
    "\n",
    "small_scale_labels = ['0', '3','10', '30','100', '300']#, '1000']\n",
    "\n",
    "small_scale_nolabels = ['', '','', '','', '', '']\n"
   ]
  },
  {
   "cell_type": "code",
   "execution_count": null,
   "id": "144b9a60",
   "metadata": {},
   "outputs": [],
   "source": [
    "#Gathering the relevant data\n",
    "\n",
    "# get pgm geometries\n",
    "gdf_base = gpd.read_parquet('pgm_geometry.parquet')\n",
    "\n",
    "# get cm geometries\n",
    "gdf_c = gpd.read_parquet('cm_geometry.parquet')\n",
    "\n",
    "gdf_c = gdf_c.to_crs(4326)\n",
    "\n",
    "gdf2 = gdf_base.copy()\n",
    "\n",
    "df = df.set_index('priogrid_gid')\n",
    "gdf2 = gdf2.set_index('priogrid_gid')\n",
    "\n",
    "joint = pd.merge(df, gdf2, left_index=True, right_index=True, how='left')\n",
    "joint = gpd.GeoDataFrame(joint, geometry=\"geom\")\n",
    "joint = joint.reset_index()"
   ]
  },
  {
   "cell_type": "markdown",
   "id": "e4324dba",
   "metadata": {},
   "source": [
    "## The following cell defines your map \n",
    "\n",
    "This allows the plot to map only over the country/region of interest. To do specific you interests, build the box following the examples below. \n",
    "\n",
    "Example: \n",
    "1. country = [x min, x max, y min, y max] OR: \n",
    "2. country = [longitude min, longitude max, latitude min, latitude max]\n",
    "\n",
    "A bbox can easily be built by following this link: [Click me for building boxes](http://bboxfinder.com/)"
   ]
  },
  {
   "cell_type": "code",
   "execution_count": null,
   "id": "5c24d502",
   "metadata": {},
   "outputs": [],
   "source": [
    "# Defines which maps you would like to produce (ex: step 1 = '1', step 36 = '36')\n",
    "stepstoplot = [ 1, 12, 36]\n",
    "\n",
    "# Define the country or region you you want to map here:\n",
    "country_region = 'HoA'\n",
    "country = 'Kenya'\n",
    "\n",
    "#Build the bounding box here: \n",
    "kenya = [33.0, 43.0, -5.5, 6.0]\n",
    "hoa = [21.533203, 52.734375, -6.140555, 22.350076]"
   ]
  },
  {
   "cell_type": "markdown",
   "id": "cd576ed8",
   "metadata": {},
   "source": [
    "### Example: Kenya"
   ]
  },
  {
   "cell_type": "code",
   "execution_count": null,
   "id": "72cd3762",
   "metadata": {
    "scrolled": false
   },
   "outputs": [],
   "source": [
    "for step in stepstoplot:\n",
    "        month = step + EndOfHistory\n",
    "        gdf = joint.loc[joint['month_id']==month]\n",
    "        m=Mapper2(\n",
    "        width=10,\n",
    "        height=10,\n",
    "        frame_on=True,\n",
    "        title= 'Ensemble predictions as of ' + vid2date(EndOfHistory+step) + ', ' + str(step) + ' months after last month with data',\n",
    "        bbox= kenya, \n",
    "        ).add_layer(\n",
    "        gdf=joint.loc[joint['month_id']==month],\n",
    "        map_scale=standard_scale,\n",
    "        cmap=\"rainbow\",\n",
    "        edgecolor=\"black\",\n",
    "        linewidth=0.2,\n",
    "        column='sc_pgm_sb_main', \n",
    "        inform_colorbar=True\n",
    "        )\n",
    "        ax=m.ax\n",
    "        fg=gdf_c.plot(ax=ax,edgecolor='black',linewidth=2,facecolor='None')\n",
    "        figure=m.fig\n",
    "        fontdict={'fontsize':25}\n",
    "        figure.text(0.45,0.5,'KENYA',fontdict=fontdict,color='black')\n",
    "        \n",
    "        m.cbar.set_ticks(standard_scale)\n",
    "        m.cbar.set_ticklabels(standard_scale_labels)\n",
    "\n",
    "        m.save(f'{path}PredictionMap_{country}_pgm_ensemble_standard_scale_r{EndOfHistory}_m{month}.png')"
   ]
  },
  {
   "cell_type": "markdown",
   "id": "c6d964fb",
   "metadata": {},
   "source": [
    "### Example: Horn of Africa"
   ]
  },
  {
   "cell_type": "code",
   "execution_count": null,
   "id": "8eddc158",
   "metadata": {},
   "outputs": [],
   "source": [
    "for step in stepstoplot:\n",
    "        month = step + EndOfHistory\n",
    "        gdf = joint.loc[joint['month_id']==month]\n",
    "        m=Mapper2(\n",
    "        width=10,\n",
    "        height=10,\n",
    "        frame_on=True,\n",
    "        title='Ensemble predictions as of ' + vid2date(EndOfHistory+step) + ', ' + str(step) + ' months after last month with data',\n",
    "        bbox=hoa,\n",
    "        ).add_layer(\n",
    "        gdf = joint.loc[joint['month_id']==month],\n",
    "        map_scale=standard_scale,\n",
    "        cmap=\"rainbow\",\n",
    "        edgecolor=\"black\",\n",
    "        linewidth=0.2,\n",
    "        column='sc_pgm_sb_main', \n",
    "        inform_colorbar=True\n",
    "        )\n",
    "        ax=m.ax\n",
    "        fg=gdf_c.plot(ax=ax,edgecolor='grey',linewidth=2.0,facecolor='None')\n",
    "        figure=m.fig\n",
    "        fontdict={'fontsize':15}\n",
    "        figure.text(0.47,0.32,'KENYA',fontdict=fontdict,color='black')\n",
    "        figure.text(0.48,0.5,'ETHIOPIA',fontdict=fontdict,color='black')\n",
    "        figure.text(0.47,0.68,'ERITREA',fontdict=fontdict,color='black')\n",
    "        figure.text(0.33,0.31,'UGANDA',fontdict=fontdict,color='black')\n",
    "        figure.text(0.27,0.46,'S. SUDAN',fontdict=fontdict,color='black')\n",
    "        figure.text(0.35,0.18,'TANZANIA',fontdict=fontdict,color='black')\n",
    "        figure.text(0.68,0.52,'SOMALIA',fontdict=fontdict,color='black')\n",
    "        figure.text(0.62,0.58,'DJIBOUTI',fontdict=fontdict,color='black')\n",
    "        figure.text(0.71,0.66,'YEMEN',fontdict=fontdict,color='black')\n",
    "        figure.text(0.2,0.3,'DRC',fontdict=fontdict,color='black')\n",
    "        figure.text(0.28,0.25,'RWANDA',fontdict=fontdict,color='black')\n",
    "        figure.text(0.28,0.22,'BURUNDI',fontdict=fontdict,color='black')\n",
    "        figure.text(0.28,0.7,'SUDAN',fontdict=fontdict,color='black')\n",
    "        \n",
    "        m.cbar.set_ticks(standard_scale)\n",
    "        m.cbar.set_ticklabels(standard_scale_labels)\n",
    "\n",
    "\n",
    "        m.save(f'{path}PredictionMap_{country_region}_pgm_ensemble_standard_scale_r{EndOfHistory}_m{month}.png')"
   ]
  }
 ],
 "metadata": {
  "kernelspec": {
   "display_name": "Python 3 (ipykernel)",
   "language": "python",
   "name": "python3"
  },
  "language_info": {
   "codemirror_mode": {
    "name": "ipython",
    "version": 3
   },
   "file_extension": ".py",
   "mimetype": "text/x-python",
   "name": "python",
   "nbconvert_exporter": "python",
   "pygments_lexer": "ipython3",
   "version": "3.9.13"
  }
 },
 "nbformat": 4,
 "nbformat_minor": 5
}
