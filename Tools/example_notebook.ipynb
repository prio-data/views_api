{
 "cells": [
  {
   "cell_type": "markdown",
   "metadata": {},
   "source": [
    "## Base configuration"
   ]
  },
  {
   "cell_type": "code",
   "execution_count": 1,
   "metadata": {},
   "outputs": [],
   "source": [
    "from typing import TypeVar, Union, List\n",
    "from helpers import listify, fetch_slice, model_url, make_url, make_options, fetch_runs, fetch_df"
   ]
  },
  {
   "cell_type": "code",
   "execution_count": 2,
   "metadata": {},
   "outputs": [],
   "source": [
    "import json\n",
    "import requests\n",
    "import pandas as pd\n",
    "\n",
    "loa=model=current_run=None"
   ]
  },
  {
   "cell_type": "code",
   "execution_count": 3,
   "metadata": {},
   "outputs": [],
   "source": [
    "## To explore helper functions, run this cell\n",
    "import sys\n",
    "if sys.platform.startswith('darwin'):\n",
    "    !open helpers.py\n",
    "if sys.platform.startswith('linux'):\n",
    "    !xdg-open helpers.py\n",
    "if sys.platform.startswith('win'):\n",
    "    #Make the switch to one of the above TODAY and avoid:\n",
    "    !notepad helpers.py"
   ]
  },
  {
   "cell_type": "code",
   "execution_count": 4,
   "metadata": {},
   "outputs": [],
   "source": [
    "api_location = \"http://54.75.57.44:8000\""
   ]
  },
  {
   "cell_type": "markdown",
   "metadata": {},
   "source": [
    "## 1. Fetch what runs are available in the API"
   ]
  },
  {
   "cell_type": "code",
   "execution_count": 5,
   "metadata": {},
   "outputs": [
    {
     "data": {
      "text/plain": [
       "['d_2021_02_01', 'r_2021_01_01']"
      ]
     },
     "execution_count": 5,
     "metadata": {},
     "output_type": "execute_result"
    }
   ],
   "source": [
    "## All runs\n",
    "\n",
    "runs = fetch_runs(api_location)\n",
    "runs"
   ]
  },
  {
   "cell_type": "code",
   "execution_count": 6,
   "metadata": {},
   "outputs": [
    {
     "data": {
      "text/plain": [
       "'r_2021_01_01'"
      ]
     },
     "execution_count": 6,
     "metadata": {},
     "output_type": "execute_result"
    }
   ],
   "source": [
    "## Latest run\n",
    "\n",
    "latest_run = runs[-1]\n",
    "latest_run"
   ]
  },
  {
   "cell_type": "markdown",
   "metadata": {},
   "source": [
    "We will work with the latest_run, but you can just choose whatever run you want."
   ]
  },
  {
   "cell_type": "code",
   "execution_count": 7,
   "metadata": {},
   "outputs": [],
   "source": [
    "chosen_run = latest_run"
   ]
  },
  {
   "cell_type": "markdown",
   "metadata": {},
   "source": [
    "## 2. Explore what model sets do exist and we want"
   ]
  },
  {
   "cell_type": "code",
   "execution_count": 8,
   "metadata": {},
   "outputs": [],
   "source": [
    "# Run this to get what model sets exist\n",
    "_, _, model_tree, model_list, _ = fetch_slice(model_url(api_location,chosen_run))"
   ]
  },
  {
   "cell_type": "markdown",
   "metadata": {},
   "source": [
    "### PGM models\n",
    "#### SB"
   ]
  },
  {
   "cell_type": "code",
   "execution_count": 9,
   "metadata": {},
   "outputs": [
    {
     "data": {
      "text/plain": [
       "[{'parent': '', 'node': 'pgm_sb_main'},\n",
       " {'parent': 'pgm_sb_main', 'node': 'pgm_sb_hist_legacy'},\n",
       " {'parent': 'pgm_sb_main', 'node': 'pgm_sb_allthemes'},\n",
       " {'parent': 'pgm_sb_main', 'node': 'pgm_sb_pgd_natural'},\n",
       " {'parent': 'pgm_sb_main', 'node': 'pgm_sb_pgd_social'},\n",
       " {'parent': 'pgm_sb_main', 'node': 'pgm_sb_sptime'},\n",
       " {'parent': 'pgm_sb_main', 'node': 'pgm_sb_all_gxgb'},\n",
       " {'parent': 'pgm_sb_main', 'node': 'pgm_sb_ds_jpr2020_dummy'},\n",
       " {'parent': 'pgm_sb_main', 'node': 'pgm_sb_crosslevel'},\n",
       " {'parent': 'pgm_sb_main', 'node': 'pgm_sb_onset24_100_all'},\n",
       " {'parent': 'pgm_sb_main', 'node': 'pgm_sb_onset24_1_all'}]"
      ]
     },
     "execution_count": 9,
     "metadata": {},
     "output_type": "execute_result"
    }
   ],
   "source": [
    "model_tree.pgm.sb"
   ]
  },
  {
   "cell_type": "markdown",
   "metadata": {},
   "source": [
    "#### NS"
   ]
  },
  {
   "cell_type": "code",
   "execution_count": 10,
   "metadata": {},
   "outputs": [
    {
     "data": {
      "text/plain": [
       "[{'parent': '', 'node': 'pgm_ns_main'},\n",
       " {'parent': 'pgm_ns_main', 'node': 'pgm_ns_hist_legacy'},\n",
       " {'parent': 'pgm_ns_main', 'node': 'pgm_ns_allthemes'},\n",
       " {'parent': 'pgm_ns_main', 'node': 'pgm_ns_onset24_100_all'},\n",
       " {'parent': 'pgm_ns_main', 'node': 'pgm_ns_onset24_1_all'},\n",
       " {'parent': 'pgm_ns_main', 'node': 'pgm_ns_pgd_natural'},\n",
       " {'parent': 'pgm_ns_main', 'node': 'pgm_ns_pgd_social'},\n",
       " {'parent': 'pgm_ns_main', 'node': 'pgm_ns_sptime'},\n",
       " {'parent': 'pgm_ns_main', 'node': 'pgm_ns_all_gxgb'},\n",
       " {'parent': 'pgm_ns_main', 'node': 'pgm_ns_ds_jpr2020_dummy'},\n",
       " {'parent': 'pgm_ns_main', 'node': 'pgm_ns_crosslevel'}]"
      ]
     },
     "execution_count": 10,
     "metadata": {},
     "output_type": "execute_result"
    }
   ],
   "source": [
    "model_tree.pgm.ns"
   ]
  },
  {
   "cell_type": "markdown",
   "metadata": {},
   "source": [
    "#### OS"
   ]
  },
  {
   "cell_type": "code",
   "execution_count": 11,
   "metadata": {},
   "outputs": [
    {
     "data": {
      "text/plain": [
       "[{'parent': '', 'node': 'pgm_os_main'},\n",
       " {'parent': 'pgm_os_main', 'node': 'pgm_os_hist_legacy'},\n",
       " {'parent': 'pgm_os_main', 'node': 'pgm_os_allthemes'},\n",
       " {'parent': 'pgm_os_main', 'node': 'pgm_os_pgd_natural'},\n",
       " {'parent': 'pgm_os_main', 'node': 'pgm_os_pgd_social'},\n",
       " {'parent': 'pgm_os_main', 'node': 'pgm_os_sptime'},\n",
       " {'parent': 'pgm_os_main', 'node': 'pgm_os_all_gxgb'},\n",
       " {'parent': 'pgm_os_main', 'node': 'pgm_os_crosslevel'},\n",
       " {'parent': 'pgm_os_main', 'node': 'pgm_os_ds_jpr2020_dummy'},\n",
       " {'parent': 'pgm_os_main', 'node': 'pgm_os_onset24_100_all'},\n",
       " {'parent': 'pgm_os_main', 'node': 'pgm_os_onset24_1_all'}]"
      ]
     },
     "execution_count": 11,
     "metadata": {},
     "output_type": "execute_result"
    }
   ],
   "source": [
    "model_tree.pgm.os"
   ]
  },
  {
   "cell_type": "markdown",
   "metadata": {},
   "source": [
    "### CM models\n",
    "#### SB"
   ]
  },
  {
   "cell_type": "code",
   "execution_count": 12,
   "metadata": {},
   "outputs": [
    {
     "data": {
      "text/plain": [
       "[{'parent': '', 'node': 'cm_sb_main'},\n",
       " {'parent': 'cm_sb_main', 'node': 'cm_sb_cflong'},\n",
       " {'parent': 'cm_sb_main', 'node': 'cm_sb_acled_violence'},\n",
       " {'parent': 'cm_sb_main', 'node': 'cm_sb_neibhist'},\n",
       " {'parent': 'cm_sb_main', 'node': 'cm_sb_cdummies'},\n",
       " {'parent': 'cm_sb_main', 'node': 'cm_sb_acled_protest'},\n",
       " {'parent': 'cm_sb_main', 'node': 'cm_sb_reign_coups'},\n",
       " {'parent': 'cm_sb_main', 'node': 'cm_sb_icgcw'},\n",
       " {'parent': 'cm_sb_main', 'node': 'cm_sb_reign_drought'},\n",
       " {'parent': 'cm_sb_main', 'node': 'cm_sb_reign_global'},\n",
       " {'parent': 'cm_sb_main', 'node': 'cm_sb_vdem_global'},\n",
       " {'parent': 'cm_sb_main', 'node': 'cm_sb_demog'},\n",
       " {'parent': 'cm_sb_main', 'node': 'cm_sb_wdi_global'},\n",
       " {'parent': 'cm_sb_main', 'node': 'cm_sb_all_global'},\n",
       " {'parent': 'cm_sb_main', 'node': 'cm_sb_ds_jpr2020_greq_25'},\n",
       " {'parent': 'cm_sb_main', 'node': 'cm_sbonset24_25_all'}]"
      ]
     },
     "execution_count": 12,
     "metadata": {},
     "output_type": "execute_result"
    }
   ],
   "source": [
    "model_tree.cm.sb"
   ]
  },
  {
   "cell_type": "markdown",
   "metadata": {},
   "source": [
    "#### NS"
   ]
  },
  {
   "cell_type": "code",
   "execution_count": 13,
   "metadata": {},
   "outputs": [
    {
     "data": {
      "text/plain": [
       "[{'parent': '', 'node': 'cm_ns_main'},\n",
       " {'parent': 'cm_ns_main', 'node': 'cm_nsonset24_25_all'},\n",
       " {'parent': 'cm_ns_main', 'node': 'cm_ns_cflong'},\n",
       " {'parent': 'cm_ns_main', 'node': 'cm_ns_acled_violence'},\n",
       " {'parent': 'cm_ns_main', 'node': 'cm_ns_neibhist'},\n",
       " {'parent': 'cm_ns_main', 'node': 'cm_ns_cdummies'},\n",
       " {'parent': 'cm_ns_main', 'node': 'cm_ns_acled_protest'},\n",
       " {'parent': 'cm_ns_main', 'node': 'cm_ns_reign_coups'},\n",
       " {'parent': 'cm_ns_main', 'node': 'cm_ns_icgcw'},\n",
       " {'parent': 'cm_ns_main', 'node': 'cm_ns_reign_drought'},\n",
       " {'parent': 'cm_ns_main', 'node': 'cm_ns_reign_global'},\n",
       " {'parent': 'cm_ns_main', 'node': 'cm_ns_vdem_global'},\n",
       " {'parent': 'cm_ns_main', 'node': 'cm_ns_demog'},\n",
       " {'parent': 'cm_ns_main', 'node': 'cm_ns_wdi_global'},\n",
       " {'parent': 'cm_ns_main', 'node': 'cm_ns_all_global'},\n",
       " {'parent': 'cm_ns_main', 'node': 'cm_ns_ds_jpr2020_greq_25'}]"
      ]
     },
     "execution_count": 13,
     "metadata": {},
     "output_type": "execute_result"
    }
   ],
   "source": [
    "model_tree.cm.ns"
   ]
  },
  {
   "cell_type": "markdown",
   "metadata": {},
   "source": [
    "#### OS"
   ]
  },
  {
   "cell_type": "code",
   "execution_count": 14,
   "metadata": {},
   "outputs": [
    {
     "data": {
      "text/plain": [
       "[{'parent': '', 'node': 'cm_os_main'},\n",
       " {'parent': 'cm_os_main', 'node': 'cm_os_cflong'},\n",
       " {'parent': 'cm_os_main', 'node': 'cm_os_acled_violence'},\n",
       " {'parent': 'cm_os_main', 'node': 'cm_os_neibhist'},\n",
       " {'parent': 'cm_os_main', 'node': 'cm_os_cdummies'},\n",
       " {'parent': 'cm_os_main', 'node': 'cm_os_acled_protest'},\n",
       " {'parent': 'cm_os_main', 'node': 'cm_os_reign_coups'},\n",
       " {'parent': 'cm_os_main', 'node': 'cm_os_icgcw'},\n",
       " {'parent': 'cm_os_main', 'node': 'cm_os_reign_drought'},\n",
       " {'parent': 'cm_os_main', 'node': 'cm_os_reign_global'},\n",
       " {'parent': 'cm_os_main', 'node': 'cm_os_vdem_global'},\n",
       " {'parent': 'cm_os_main', 'node': 'cm_os_demog'},\n",
       " {'parent': 'cm_os_main', 'node': 'cm_os_wdi_global'},\n",
       " {'parent': 'cm_os_main', 'node': 'cm_os_all_global'},\n",
       " {'parent': 'cm_os_main', 'node': 'cm_os_ds_jpr2020_greq_25'}]"
      ]
     },
     "execution_count": 14,
     "metadata": {},
     "output_type": "execute_result"
    }
   ],
   "source": [
    "model_tree.cm.os"
   ]
  },
  {
   "cell_type": "code",
   "execution_count": 15,
   "metadata": {},
   "outputs": [
    {
     "data": {
      "text/plain": [
       "['cm_ns_acled_protest',\n",
       " 'cm_ns_acled_violence',\n",
       " 'cm_ns_all_global',\n",
       " 'cm_ns_cdummies',\n",
       " 'cm_ns_cflong',\n",
       " 'cm_ns_demog',\n",
       " 'cm_ns_ds_jpr2020_greq_25',\n",
       " 'cm_ns_icgcw',\n",
       " 'cm_ns_main',\n",
       " 'cm_ns_neibhist',\n",
       " 'cm_ns_reign_coups',\n",
       " 'cm_ns_reign_drought',\n",
       " 'cm_ns_reign_global',\n",
       " 'cm_ns_vdem_global',\n",
       " 'cm_ns_wdi_global',\n",
       " 'cm_nsonset24_25_all',\n",
       " 'cm_os_acled_protest',\n",
       " 'cm_os_acled_violence',\n",
       " 'cm_os_all_global',\n",
       " 'cm_os_cdummies',\n",
       " 'cm_os_cflong',\n",
       " 'cm_os_demog',\n",
       " 'cm_os_ds_jpr2020_greq_25',\n",
       " 'cm_os_icgcw',\n",
       " 'cm_os_main',\n",
       " 'cm_os_neibhist',\n",
       " 'cm_os_reign_coups',\n",
       " 'cm_os_reign_drought',\n",
       " 'cm_os_reign_global',\n",
       " 'cm_os_vdem_global',\n",
       " 'cm_os_wdi_global',\n",
       " 'cm_sb_acled_protest',\n",
       " 'cm_sb_acled_violence',\n",
       " 'cm_sb_all_global',\n",
       " 'cm_sb_cdummies',\n",
       " 'cm_sb_cflong',\n",
       " 'cm_sb_demog',\n",
       " 'cm_sb_ds_jpr2020_greq_25',\n",
       " 'cm_sb_icgcw',\n",
       " 'cm_sb_main',\n",
       " 'cm_sb_neibhist',\n",
       " 'cm_sb_reign_coups',\n",
       " 'cm_sb_reign_drought',\n",
       " 'cm_sb_reign_global',\n",
       " 'cm_sb_vdem_global',\n",
       " 'cm_sb_wdi_global',\n",
       " 'cm_sbonset24_25_all',\n",
       " 'pgm_ns_all_gxgb',\n",
       " 'pgm_ns_allthemes',\n",
       " 'pgm_ns_crosslevel',\n",
       " 'pgm_ns_ds_jpr2020_dummy',\n",
       " 'pgm_ns_hist_legacy',\n",
       " 'pgm_ns_main',\n",
       " 'pgm_ns_onset24_100_all',\n",
       " 'pgm_ns_onset24_1_all',\n",
       " 'pgm_ns_pgd_natural',\n",
       " 'pgm_ns_pgd_social',\n",
       " 'pgm_ns_sptime',\n",
       " 'pgm_os_all_gxgb',\n",
       " 'pgm_os_allthemes',\n",
       " 'pgm_os_crosslevel',\n",
       " 'pgm_os_ds_jpr2020_dummy',\n",
       " 'pgm_os_hist_legacy',\n",
       " 'pgm_os_main',\n",
       " 'pgm_os_onset24_100_all',\n",
       " 'pgm_os_onset24_1_all',\n",
       " 'pgm_os_pgd_natural',\n",
       " 'pgm_os_pgd_social',\n",
       " 'pgm_os_sptime',\n",
       " 'pgm_sb_all_gxgb',\n",
       " 'pgm_sb_allthemes',\n",
       " 'pgm_sb_crosslevel',\n",
       " 'pgm_sb_ds_jpr2020_dummy',\n",
       " 'pgm_sb_hist_legacy',\n",
       " 'pgm_sb_main',\n",
       " 'pgm_sb_onset24_100_all',\n",
       " 'pgm_sb_onset24_1_all',\n",
       " 'pgm_sb_pgd_natural',\n",
       " 'pgm_sb_pgd_social',\n",
       " 'pgm_sb_sptime']"
      ]
     },
     "execution_count": 15,
     "metadata": {},
     "output_type": "execute_result"
    }
   ],
   "source": [
    "#Or, you can just get a model list with all the models like this\n",
    "list(model_list[0])"
   ]
  },
  {
   "cell_type": "markdown",
   "metadata": {},
   "source": [
    "There are other options that can be used to explore data, but for that, you will need to delve deeper in the API. Full tree representations exist at each node and leaf, for example"
   ]
  },
  {
   "cell_type": "markdown",
   "metadata": {},
   "source": [
    "# 3. Retrieval paths\n",
    "\n",
    "In order to get data you need to make a retrieval URL (a path).\n",
    "\n",
    "Retrieval paths control what data you get from each API call. \n",
    "\n",
    "**There are three options:**\n",
    "\n",
    "1. You can retrieve data for ALL the models belonging to a whole level of analysis (LOA), i.e. all PGM or all CM models. To do that, you only specify the LOA in the path (i.e. `$PATH/cm` or `$PATH/pgm`)\n",
    "2. You can retrieve data for ALL the models belonging to a single type of violence in a single LOA, by adding the type of violence to the LOA path (e.g. `$PATH/cm/sb` or `$PATH/pgm/ns`) \n",
    "3. You can retrieve data for A SINGLE MODEL, by appending the model name to the path above (e.g. `$PATH/cm/sb/cm_sb_main`)\n",
    "\n",
    "Here's how to do it:\n",
    "\n"
   ]
  },
  {
   "cell_type": "code",
   "execution_count": 16,
   "metadata": {},
   "outputs": [
    {
     "name": "stdout",
     "output_type": "stream",
     "text": [
      "http://54.75.57.44:8000/r_2021_01_01/pgm/sb/pgm_sb_main\n"
     ]
    }
   ],
   "source": [
    "# To get all CM: \n",
    "loa = 'pgm'\n",
    "\n",
    "# To get all PGM:\n",
    "#loa = 'pgm'\n",
    "\n",
    "#If you want to get only one type of violence within a CM or PGM\n",
    "#You NEED to specify a LOA above.\n",
    "\n",
    "#State_based:\n",
    "tv = 'sb'\n",
    "\n",
    "#Non_state:\n",
    "#tv = 'ns'\n",
    "\n",
    "#One_sided:\n",
    "#tv = 'os'\n",
    "\n",
    "#If you want to get ONLY a specific model specify a model here.\n",
    "#It needs to be in the correct LOA and TV. You can see the models above.\n",
    "model = 'pgm_sb_main'\n",
    "\n",
    "url = make_url(base=api_location, run=latest_run, loa=loa, tv=tv, model=model)\n",
    "print (url)"
   ]
  },
  {
   "cell_type": "markdown",
   "metadata": {},
   "source": [
    "If you want to get multiple models at the same time, you have two options.\n",
    "\n",
    "1. Get a full type of violence at a time, and filter out the models you do not need.\n",
    "2. Call the API multiple times, once per model, and merge the resulting data.\n",
    "\n",
    "Method 1. will be *__MUCH__* faster as no merge needs to happen.\n",
    "\n",
    "At the end of this document, there are a few examples of both approaches"
   ]
  },
  {
   "cell_type": "markdown",
   "metadata": {},
   "source": [
    "##### Other examples:\n",
    "\n",
    "Fetch all state-based country-month models:"
   ]
  },
  {
   "cell_type": "code",
   "execution_count": 26,
   "metadata": {},
   "outputs": [
    {
     "name": "stdout",
     "output_type": "stream",
     "text": [
      "http://54.75.57.44:8000/r_2021_01_01/cm/sb\n"
     ]
    }
   ],
   "source": [
    "url = make_url(base=api_location, run=latest_run, loa='cm', tv='sb', model=None)\n",
    "print (url)"
   ]
  },
  {
   "cell_type": "markdown",
   "metadata": {},
   "source": [
    "Fetch all pgm models:"
   ]
  },
  {
   "cell_type": "code",
   "execution_count": 18,
   "metadata": {},
   "outputs": [
    {
     "name": "stdout",
     "output_type": "stream",
     "text": [
      "http://54.75.57.44:8000/r_2021_01_01/pgm\n"
     ]
    }
   ],
   "source": [
    "#url = make_url(base=api_location, run=latest_run, loa='pgm', tv=None, model=None)\n",
    "#print (url)"
   ]
  },
  {
   "cell_type": "markdown",
   "metadata": {},
   "source": [
    "# 4. Filters"
   ]
  },
  {
   "cell_type": "markdown",
   "metadata": {},
   "source": [
    "You can also filter data within the API. Examples follow for what kinds of filters exist."
   ]
  },
  {
   "cell_type": "markdown",
   "metadata": {},
   "source": [
    "## Spatial filters\n",
    "\n",
    "For normal use, you should only use one of these at a time, as they are concatenated with \"AND\". Select which one you want to use by changing the use_filter."
   ]
  },
  {
   "cell_type": "code",
   "execution_count": 20,
   "metadata": {},
   "outputs": [],
   "source": [
    "sp_filter={}\n",
    "\n",
    "#Choose the filter you want: iso, gwno, countryid, priogrid, latlon, bbox.\n",
    "#If you do not want to use any filter, set this to False.\n",
    "\n",
    "use_sp_filter = False \n",
    "\n",
    "#Specify what to filter on. You only need to change the filter you have chosen.\n",
    "\n",
    "#ISO : Filter by ISO country codes. Supply either a string or a list.\n",
    "sp_filter['iso'] = ['DZA','EGY']\n",
    "\n",
    "#GWNO : Filter by GWNO country code. Supply either a number or a list.\n",
    "sp_filter['gwno'] = ['626','651']\n",
    "\n",
    "#ViEWS country IDs. Supply either a number or a list.\n",
    "sp_filter['countryid'] = 127\n",
    "\n",
    "#PrioGRID. Supply either a number or a list\n",
    "sp_filter['priogrid'] = 146522\n",
    "\n",
    "#Latitude and Longitude. Supply a float for either lat or lon.\n",
    "sp_filter['lat'] = -19.2\n",
    "sp_filter['lon'] =  29.4\n",
    "\n",
    "#Bounding Box (bbox). Supply the coordinates of two opposite (extreme corners). \n",
    "#We suggest you use the SW and NE corners, but the system is smart enough to work with any two opposites.\n",
    "#And you can actually supply them in any order (it's even fine if you do NE in SW and SW in NE!)\n",
    "\n",
    "bbox={}\n",
    "bbox['lat_sw'] = -1\n",
    "bbox['lon_sw'] = 30\n",
    "bbox['lat_ne'] = 10\n",
    "bbox['lon_ne'] = 31"
   ]
  },
  {
   "cell_type": "markdown",
   "metadata": {},
   "source": [
    "## Temporal filters\n",
    "\n",
    "For normal use, you should only use one of these at a time, as they are concatenated with \"AND\". Select which one you want to use by changing the use_filter."
   ]
  },
  {
   "cell_type": "code",
   "execution_count": 22,
   "metadata": {},
   "outputs": [],
   "source": [
    "t_filter={}\n",
    "\n",
    "#Choose the filter you want: month or dates\n",
    "#If you do not want to use any filter, set this to False.\n",
    "\n",
    "use_t_filter = False\n",
    "\n",
    "#month_id. Specify a ViEWS month_id or a list of them\n",
    "\n",
    "t_filter['month'] = [500,501,502]\n",
    "\n",
    "#dates. Specify a Date Start and a Date End. \n",
    "#You can actually specify any DAY for date_start and date_end,\n",
    "#It will always know to go from 1 to 28/29/30/31.\n",
    "t_filter['date_start'] = '2021-05-01'\n",
    "t_filter['date_end'] = '2021-07-30'"
   ]
  },
  {
   "cell_type": "markdown",
   "metadata": {},
   "source": [
    "## Other options\n",
    "\n",
    "Normally, you don't need to change these, but here they go."
   ]
  },
  {
   "cell_type": "code",
   "execution_count": 23,
   "metadata": {},
   "outputs": [],
   "source": [
    "other={}\n",
    "# Do you want the steps?\n",
    "# If you want the individual steps for the one step ahead models, set steps to true. \n",
    "# The model is smart enough so that if you specify a Dynasim model and steps, it knows how to handle it well.\n",
    "# If you specify steps, this will be A LOT of data. It may be wise to set the page_size to lower (100 or 500).\n",
    "other['steps'] = False\n",
    "\n",
    "# Do you want data, or just metadata, i.e. what models are related (i.e. get a tree of ensemble/components)?\n",
    "other['data'] = True\n",
    "\n",
    "# What page size do you want? None will leave it to the API to decide.\n",
    "other['page_size'] = None\n",
    "\n",
    "# Do you want any custom string to be added as parameters?\n",
    "\n",
    "other['custom'] = None"
   ]
  },
  {
   "cell_type": "markdown",
   "metadata": {},
   "source": [
    "#### And use the above options to make the options part of the url"
   ]
  },
  {
   "cell_type": "code",
   "execution_count": 24,
   "metadata": {},
   "outputs": [],
   "source": [
    "url_options = make_options(use_sp_filter=use_sp_filter, sp_filter=sp_filter,\n",
    "             use_t_filter=use_t_filter, t_filter=t_filter, \n",
    "             other=other)"
   ]
  },
  {
   "cell_type": "code",
   "execution_count": 25,
   "metadata": {},
   "outputs": [
    {
     "data": {
      "text/plain": [
       "''"
      ]
     },
     "execution_count": 25,
     "metadata": {},
     "output_type": "execute_result"
    }
   ],
   "source": [
    "url_options"
   ]
  },
  {
   "cell_type": "markdown",
   "metadata": {},
   "source": [
    "# 5. Fetching data"
   ]
  },
  {
   "cell_type": "markdown",
   "metadata": {},
   "source": [
    "First, you need to combine the path URL with the URL options. \n",
    "If you don't need any options, you can either just call `url_options()` with no parameters, set url_options to the empty string `''` or just not concatenate url_options to the end of the url. All three work."
   ]
  },
  {
   "cell_type": "code",
   "execution_count": 27,
   "metadata": {},
   "outputs": [
    {
     "name": "stdout",
     "output_type": "stream",
     "text": [
      "http://54.75.57.44:8000/r_2021_01_01/cm/sb\n"
     ]
    }
   ],
   "source": [
    "fetch_url = url+url_options\n",
    "print(fetch_url)"
   ]
  },
  {
   "cell_type": "markdown",
   "metadata": {},
   "source": [
    "#### And finally, you can fetch data"
   ]
  },
  {
   "cell_type": "code",
   "execution_count": 28,
   "metadata": {},
   "outputs": [
    {
     "name": "stdout",
     "output_type": "stream",
     "text": [
      "Fetching :  http://54.75.57.44:8000/r_2021_01_01/cm/sb\n",
      "Fetching :  http://54.75.57.44:8000/r_2021_01_01/cm/sb?page=2\n",
      "Fetching :  http://54.75.57.44:8000/r_2021_01_01/cm/sb?page=3\n",
      "Fetching :  http://54.75.57.44:8000/r_2021_01_01/cm/sb?page=4\n"
     ]
    }
   ],
   "source": [
    "df = fetch_df(fetch_url)"
   ]
  },
  {
   "cell_type": "code",
   "execution_count": 29,
   "metadata": {},
   "outputs": [
    {
     "data": {
      "text/html": [
       "<div>\n",
       "<style scoped>\n",
       "    .dataframe tbody tr th:only-of-type {\n",
       "        vertical-align: middle;\n",
       "    }\n",
       "\n",
       "    .dataframe tbody tr th {\n",
       "        vertical-align: top;\n",
       "    }\n",
       "\n",
       "    .dataframe thead th {\n",
       "        text-align: right;\n",
       "    }\n",
       "</style>\n",
       "<table border=\"1\" class=\"dataframe\">\n",
       "  <thead>\n",
       "    <tr style=\"text-align: right;\">\n",
       "      <th></th>\n",
       "      <th>country_id</th>\n",
       "      <th>month_id</th>\n",
       "      <th>name</th>\n",
       "      <th>gwcode</th>\n",
       "      <th>isoab</th>\n",
       "      <th>year</th>\n",
       "      <th>month</th>\n",
       "      <th>cm_sb_ds_jpr2020_greq_25</th>\n",
       "      <th>sc_cm_sb_icgcw</th>\n",
       "      <th>sc_cm_sb_vdem_global</th>\n",
       "      <th>...</th>\n",
       "      <th>sc_cm_sb_cflong</th>\n",
       "      <th>sc_cm_sb_acled_protest</th>\n",
       "      <th>sc_cm_sb_neibhist</th>\n",
       "      <th>sc_cm_sb_reign_drought</th>\n",
       "      <th>sc_cm_sbonset24_25_all</th>\n",
       "      <th>sc_cm_sb_cdummies</th>\n",
       "      <th>sc_cm_sb_reign_global</th>\n",
       "      <th>sc_cm_sb_all_global</th>\n",
       "      <th>sc_cm_sb_reign_coups</th>\n",
       "      <th>sc_cm_sb_main</th>\n",
       "    </tr>\n",
       "  </thead>\n",
       "  <tbody>\n",
       "    <tr>\n",
       "      <th>0</th>\n",
       "      <td>78</td>\n",
       "      <td>451</td>\n",
       "      <td>Niger</td>\n",
       "      <td>436</td>\n",
       "      <td>NER</td>\n",
       "      <td>2017</td>\n",
       "      <td>7</td>\n",
       "      <td>0.449</td>\n",
       "      <td>0.0900</td>\n",
       "      <td>0.0458</td>\n",
       "      <td>...</td>\n",
       "      <td>0.3249</td>\n",
       "      <td>0.1725</td>\n",
       "      <td>0.0735</td>\n",
       "      <td>0.1052</td>\n",
       "      <td>0.1857</td>\n",
       "      <td>0.0273</td>\n",
       "      <td>0.0633</td>\n",
       "      <td>0.3437</td>\n",
       "      <td>0.3335</td>\n",
       "      <td>NaN</td>\n",
       "    </tr>\n",
       "    <tr>\n",
       "      <th>1</th>\n",
       "      <td>79</td>\n",
       "      <td>451</td>\n",
       "      <td>Nigeria</td>\n",
       "      <td>475</td>\n",
       "      <td>NGA</td>\n",
       "      <td>2017</td>\n",
       "      <td>7</td>\n",
       "      <td>0.157</td>\n",
       "      <td>0.0005</td>\n",
       "      <td>0.7502</td>\n",
       "      <td>...</td>\n",
       "      <td>0.7483</td>\n",
       "      <td>0.1089</td>\n",
       "      <td>0.1800</td>\n",
       "      <td>0.5260</td>\n",
       "      <td>0.2477</td>\n",
       "      <td>0.1874</td>\n",
       "      <td>0.0416</td>\n",
       "      <td>0.7646</td>\n",
       "      <td>0.3652</td>\n",
       "      <td>NaN</td>\n",
       "    </tr>\n",
       "    <tr>\n",
       "      <th>2</th>\n",
       "      <td>80</td>\n",
       "      <td>451</td>\n",
       "      <td>Sao Tome and Principe</td>\n",
       "      <td>403</td>\n",
       "      <td>STP</td>\n",
       "      <td>2017</td>\n",
       "      <td>7</td>\n",
       "      <td>0.014</td>\n",
       "      <td>0.0005</td>\n",
       "      <td>0.0026</td>\n",
       "      <td>...</td>\n",
       "      <td>0.0000</td>\n",
       "      <td>0.0000</td>\n",
       "      <td>0.0000</td>\n",
       "      <td>0.0000</td>\n",
       "      <td>0.0010</td>\n",
       "      <td>0.0000</td>\n",
       "      <td>0.0125</td>\n",
       "      <td>0.0004</td>\n",
       "      <td>0.4333</td>\n",
       "      <td>NaN</td>\n",
       "    </tr>\n",
       "    <tr>\n",
       "      <th>3</th>\n",
       "      <td>81</td>\n",
       "      <td>451</td>\n",
       "      <td>Togo</td>\n",
       "      <td>461</td>\n",
       "      <td>TGO</td>\n",
       "      <td>2017</td>\n",
       "      <td>7</td>\n",
       "      <td>0.030</td>\n",
       "      <td>0.0677</td>\n",
       "      <td>0.0065</td>\n",
       "      <td>...</td>\n",
       "      <td>0.0020</td>\n",
       "      <td>0.1448</td>\n",
       "      <td>0.0010</td>\n",
       "      <td>0.0000</td>\n",
       "      <td>0.0061</td>\n",
       "      <td>0.0000</td>\n",
       "      <td>0.0794</td>\n",
       "      <td>0.0144</td>\n",
       "      <td>0.4065</td>\n",
       "      <td>NaN</td>\n",
       "    </tr>\n",
       "    <tr>\n",
       "      <th>4</th>\n",
       "      <td>120</td>\n",
       "      <td>451</td>\n",
       "      <td>Somalia</td>\n",
       "      <td>520</td>\n",
       "      <td>SOM</td>\n",
       "      <td>2017</td>\n",
       "      <td>7</td>\n",
       "      <td>0.937</td>\n",
       "      <td>0.0677</td>\n",
       "      <td>0.9403</td>\n",
       "      <td>...</td>\n",
       "      <td>0.7026</td>\n",
       "      <td>0.0000</td>\n",
       "      <td>0.1689</td>\n",
       "      <td>0.0000</td>\n",
       "      <td>0.1481</td>\n",
       "      <td>0.4448</td>\n",
       "      <td>0.1033</td>\n",
       "      <td>0.7739</td>\n",
       "      <td>0.3683</td>\n",
       "      <td>NaN</td>\n",
       "    </tr>\n",
       "    <tr>\n",
       "      <th>...</th>\n",
       "      <td>...</td>\n",
       "      <td>...</td>\n",
       "      <td>...</td>\n",
       "      <td>...</td>\n",
       "      <td>...</td>\n",
       "      <td>...</td>\n",
       "      <td>...</td>\n",
       "      <td>...</td>\n",
       "      <td>...</td>\n",
       "      <td>...</td>\n",
       "      <td>...</td>\n",
       "      <td>...</td>\n",
       "      <td>...</td>\n",
       "      <td>...</td>\n",
       "      <td>...</td>\n",
       "      <td>...</td>\n",
       "      <td>...</td>\n",
       "      <td>...</td>\n",
       "      <td>...</td>\n",
       "      <td>...</td>\n",
       "      <td>...</td>\n",
       "    </tr>\n",
       "    <tr>\n",
       "      <th>3991</th>\n",
       "      <td>164</td>\n",
       "      <td>510</td>\n",
       "      <td>Swaziland</td>\n",
       "      <td>572</td>\n",
       "      <td>SWZ</td>\n",
       "      <td>2022</td>\n",
       "      <td>6</td>\n",
       "      <td>0.012</td>\n",
       "      <td>0.0004</td>\n",
       "      <td>0.0499</td>\n",
       "      <td>...</td>\n",
       "      <td>0.0340</td>\n",
       "      <td>0.0241</td>\n",
       "      <td>0.4154</td>\n",
       "      <td>0.0001</td>\n",
       "      <td>0.0673</td>\n",
       "      <td>0.0000</td>\n",
       "      <td>0.0010</td>\n",
       "      <td>0.0807</td>\n",
       "      <td>0.0477</td>\n",
       "      <td>0.0239</td>\n",
       "    </tr>\n",
       "    <tr>\n",
       "      <th>3992</th>\n",
       "      <td>165</td>\n",
       "      <td>510</td>\n",
       "      <td>Angola</td>\n",
       "      <td>540</td>\n",
       "      <td>AGO</td>\n",
       "      <td>2022</td>\n",
       "      <td>6</td>\n",
       "      <td>0.109</td>\n",
       "      <td>0.0762</td>\n",
       "      <td>0.0676</td>\n",
       "      <td>...</td>\n",
       "      <td>0.1548</td>\n",
       "      <td>0.1680</td>\n",
       "      <td>0.3310</td>\n",
       "      <td>0.0194</td>\n",
       "      <td>0.0487</td>\n",
       "      <td>0.1906</td>\n",
       "      <td>0.0635</td>\n",
       "      <td>0.1517</td>\n",
       "      <td>0.0117</td>\n",
       "      <td>0.0598</td>\n",
       "    </tr>\n",
       "    <tr>\n",
       "      <th>3993</th>\n",
       "      <td>166</td>\n",
       "      <td>510</td>\n",
       "      <td>Congo</td>\n",
       "      <td>484</td>\n",
       "      <td>COG</td>\n",
       "      <td>2022</td>\n",
       "      <td>6</td>\n",
       "      <td>0.004</td>\n",
       "      <td>0.0762</td>\n",
       "      <td>0.1603</td>\n",
       "      <td>...</td>\n",
       "      <td>0.0419</td>\n",
       "      <td>0.1261</td>\n",
       "      <td>0.2625</td>\n",
       "      <td>0.1112</td>\n",
       "      <td>0.0868</td>\n",
       "      <td>0.0469</td>\n",
       "      <td>0.1779</td>\n",
       "      <td>0.0926</td>\n",
       "      <td>0.3863</td>\n",
       "      <td>0.0499</td>\n",
       "    </tr>\n",
       "    <tr>\n",
       "      <th>3994</th>\n",
       "      <td>167</td>\n",
       "      <td>510</td>\n",
       "      <td>Congo, DRC</td>\n",
       "      <td>490</td>\n",
       "      <td>COD</td>\n",
       "      <td>2022</td>\n",
       "      <td>6</td>\n",
       "      <td>0.739</td>\n",
       "      <td>0.1006</td>\n",
       "      <td>0.4849</td>\n",
       "      <td>...</td>\n",
       "      <td>0.8200</td>\n",
       "      <td>0.0591</td>\n",
       "      <td>0.1174</td>\n",
       "      <td>0.1959</td>\n",
       "      <td>0.1190</td>\n",
       "      <td>0.3640</td>\n",
       "      <td>0.0040</td>\n",
       "      <td>0.6114</td>\n",
       "      <td>0.3894</td>\n",
       "      <td>0.7657</td>\n",
       "    </tr>\n",
       "    <tr>\n",
       "      <th>3995</th>\n",
       "      <td>169</td>\n",
       "      <td>510</td>\n",
       "      <td>Gabon</td>\n",
       "      <td>481</td>\n",
       "      <td>GAB</td>\n",
       "      <td>2022</td>\n",
       "      <td>6</td>\n",
       "      <td>0.009</td>\n",
       "      <td>0.0762</td>\n",
       "      <td>0.0327</td>\n",
       "      <td>...</td>\n",
       "      <td>0.0010</td>\n",
       "      <td>0.0769</td>\n",
       "      <td>0.3962</td>\n",
       "      <td>0.2377</td>\n",
       "      <td>0.0277</td>\n",
       "      <td>0.0000</td>\n",
       "      <td>0.0164</td>\n",
       "      <td>0.0443</td>\n",
       "      <td>0.0100</td>\n",
       "      <td>0.0151</td>\n",
       "    </tr>\n",
       "  </tbody>\n",
       "</table>\n",
       "<p>3996 rows × 23 columns</p>\n",
       "</div>"
      ],
      "text/plain": [
       "      country_id  month_id                   name  gwcode isoab  year  month  \\\n",
       "0             78       451                  Niger     436   NER  2017      7   \n",
       "1             79       451                Nigeria     475   NGA  2017      7   \n",
       "2             80       451  Sao Tome and Principe     403   STP  2017      7   \n",
       "3             81       451                   Togo     461   TGO  2017      7   \n",
       "4            120       451                Somalia     520   SOM  2017      7   \n",
       "...          ...       ...                    ...     ...   ...   ...    ...   \n",
       "3991         164       510              Swaziland     572   SWZ  2022      6   \n",
       "3992         165       510                 Angola     540   AGO  2022      6   \n",
       "3993         166       510                  Congo     484   COG  2022      6   \n",
       "3994         167       510             Congo, DRC     490   COD  2022      6   \n",
       "3995         169       510                  Gabon     481   GAB  2022      6   \n",
       "\n",
       "      cm_sb_ds_jpr2020_greq_25  sc_cm_sb_icgcw  sc_cm_sb_vdem_global  ...  \\\n",
       "0                        0.449          0.0900                0.0458  ...   \n",
       "1                        0.157          0.0005                0.7502  ...   \n",
       "2                        0.014          0.0005                0.0026  ...   \n",
       "3                        0.030          0.0677                0.0065  ...   \n",
       "4                        0.937          0.0677                0.9403  ...   \n",
       "...                        ...             ...                   ...  ...   \n",
       "3991                     0.012          0.0004                0.0499  ...   \n",
       "3992                     0.109          0.0762                0.0676  ...   \n",
       "3993                     0.004          0.0762                0.1603  ...   \n",
       "3994                     0.739          0.1006                0.4849  ...   \n",
       "3995                     0.009          0.0762                0.0327  ...   \n",
       "\n",
       "      sc_cm_sb_cflong  sc_cm_sb_acled_protest  sc_cm_sb_neibhist  \\\n",
       "0              0.3249                  0.1725             0.0735   \n",
       "1              0.7483                  0.1089             0.1800   \n",
       "2              0.0000                  0.0000             0.0000   \n",
       "3              0.0020                  0.1448             0.0010   \n",
       "4              0.7026                  0.0000             0.1689   \n",
       "...               ...                     ...                ...   \n",
       "3991           0.0340                  0.0241             0.4154   \n",
       "3992           0.1548                  0.1680             0.3310   \n",
       "3993           0.0419                  0.1261             0.2625   \n",
       "3994           0.8200                  0.0591             0.1174   \n",
       "3995           0.0010                  0.0769             0.3962   \n",
       "\n",
       "      sc_cm_sb_reign_drought  sc_cm_sbonset24_25_all  sc_cm_sb_cdummies  \\\n",
       "0                     0.1052                  0.1857             0.0273   \n",
       "1                     0.5260                  0.2477             0.1874   \n",
       "2                     0.0000                  0.0010             0.0000   \n",
       "3                     0.0000                  0.0061             0.0000   \n",
       "4                     0.0000                  0.1481             0.4448   \n",
       "...                      ...                     ...                ...   \n",
       "3991                  0.0001                  0.0673             0.0000   \n",
       "3992                  0.0194                  0.0487             0.1906   \n",
       "3993                  0.1112                  0.0868             0.0469   \n",
       "3994                  0.1959                  0.1190             0.3640   \n",
       "3995                  0.2377                  0.0277             0.0000   \n",
       "\n",
       "      sc_cm_sb_reign_global  sc_cm_sb_all_global  sc_cm_sb_reign_coups  \\\n",
       "0                    0.0633               0.3437                0.3335   \n",
       "1                    0.0416               0.7646                0.3652   \n",
       "2                    0.0125               0.0004                0.4333   \n",
       "3                    0.0794               0.0144                0.4065   \n",
       "4                    0.1033               0.7739                0.3683   \n",
       "...                     ...                  ...                   ...   \n",
       "3991                 0.0010               0.0807                0.0477   \n",
       "3992                 0.0635               0.1517                0.0117   \n",
       "3993                 0.1779               0.0926                0.3863   \n",
       "3994                 0.0040               0.6114                0.3894   \n",
       "3995                 0.0164               0.0443                0.0100   \n",
       "\n",
       "      sc_cm_sb_main  \n",
       "0               NaN  \n",
       "1               NaN  \n",
       "2               NaN  \n",
       "3               NaN  \n",
       "4               NaN  \n",
       "...             ...  \n",
       "3991         0.0239  \n",
       "3992         0.0598  \n",
       "3993         0.0499  \n",
       "3994         0.7657  \n",
       "3995         0.0151  \n",
       "\n",
       "[3996 rows x 23 columns]"
      ]
     },
     "execution_count": 29,
     "metadata": {},
     "output_type": "execute_result"
    }
   ],
   "source": [
    "df"
   ]
  },
  {
   "cell_type": "markdown",
   "metadata": {},
   "source": [
    "Save to CSV"
   ]
  },
  {
   "cell_type": "code",
   "execution_count": 30,
   "metadata": {},
   "outputs": [],
   "source": [
    "df.to_csv('example.csv')"
   ]
  },
  {
   "cell_type": "code",
   "execution_count": 31,
   "metadata": {},
   "outputs": [],
   "source": [
    "!open ."
   ]
  }
 ],
 "metadata": {
  "kernelspec": {
   "display_name": "Python 3",
   "language": "python",
   "name": "python3"
  },
  "language_info": {
   "codemirror_mode": {
    "name": "ipython",
    "version": 3
   },
   "file_extension": ".py",
   "mimetype": "text/x-python",
   "name": "python",
   "nbconvert_exporter": "python",
   "pygments_lexer": "ipython3",
   "version": "3.8.1"
  }
 },
 "nbformat": 4,
 "nbformat_minor": 4
}
